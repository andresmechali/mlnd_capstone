{
 "cells": [
  {
   "cell_type": "markdown",
   "metadata": {},
   "source": [
    "# Machine Learning Engineer Nanodegree\n",
    "## Capstone Project\n",
    "Andres Mechali\n",
    "\n",
    "May 13th, 2017"
   ]
  },
  {
   "cell_type": "markdown",
   "metadata": {},
   "source": [
    "## I. Definition"
   ]
  },
  {
   "cell_type": "markdown",
   "metadata": {},
   "source": [
    "### Project Overview"
   ]
  },
  {
   "cell_type": "markdown",
   "metadata": {},
   "source": [
    "This project is taken from the Kaggle platform, and is currently available under the name _Quora Question Pairs_ in this link: https://www.kaggle.com/c/quora-question-pairs. Quora is a platform where anyone can make a question, and other users give answers. According to Quora, they receive over 100 million visits every month, so it's very common that the question someone asks has already been answered by others. In order to make it easier for someone to find an answer, they use a Random Forest model to identify duplicate questions.\n",
    "\n",
    "This project is about finding a model that can determine wether a pair of questions has the same meaning or not. The input data is a dataset of about 400,000 pair of questions with a human provided label stating if they have the same meaning. As for testing, Kaggle provides a set of unlabeled pairs, which are then compared to their own human labeled results."
   ]
  },
  {
   "cell_type": "markdown",
   "metadata": {},
   "source": [
    "### Problem Statement\n",
    "In this section, you will want to clearly define the problem that you are trying to solve, including the strategy (outline of tasks) you will use to achieve the desired solution. You should also thoroughly discuss what the intended solution will be for this problem. Questions to ask yourself when writing this section:\n",
    "- _Is the problem statement clearly defined? Will the reader understand what you are expecting to solve?_\n",
    "- _Have you thoroughly discussed how you will attempt to solve the problem?_\n",
    "- _Is an anticipated solution clearly defined? Will the reader understand what results you are looking for?_"
   ]
  },
  {
   "cell_type": "markdown",
   "metadata": {},
   "source": [
    "FALTA"
   ]
  },
  {
   "cell_type": "markdown",
   "metadata": {},
   "source": [
    "### Metrics"
   ]
  },
  {
   "cell_type": "markdown",
   "metadata": {},
   "source": [
    "The metrics that I will use for measuring the performance of the models will be the log-loss. This is a very commonly used metrics in models where the output is the probability of a binary outcome, which is the case of this project. This metrics penalize wrong classifications depending on how confident the model was about them. Specifically, a prediction with a greater level of confidence is more penalized when wrong.\n",
    "\n",
    "Another reason for choosing log-loss as a metrics is because it is the one used in the Kaggle platform to evaluate the predictions. So, by using this while training, I can compare the results with other Kaggle users."
   ]
  },
  {
   "cell_type": "markdown",
   "metadata": {},
   "source": [
    "## II. Analysis"
   ]
  },
  {
   "cell_type": "markdown",
   "metadata": {},
   "source": [
    "### Data Exploration"
   ]
  },
  {
   "cell_type": "markdown",
   "metadata": {},
   "source": [
    "First of all, I need to import the basic libraries."
   ]
  },
  {
   "cell_type": "code",
   "execution_count": 392,
   "metadata": {
    "collapsed": true
   },
   "outputs": [],
   "source": [
    "import numpy as np\n",
    "import pandas as pd\n",
    "import matplotlib.pyplot as plt\n",
    "from tqdm import tqdm\n",
    "import time"
   ]
  },
  {
   "cell_type": "markdown",
   "metadata": {},
   "source": [
    "Now I will import the training set, and display the first 5 lines."
   ]
  },
  {
   "cell_type": "code",
   "execution_count": 186,
   "metadata": {
    "collapsed": false
   },
   "outputs": [
    {
     "data": {
      "text/html": [
       "<div>\n",
       "<table border=\"1\" class=\"dataframe\">\n",
       "  <thead>\n",
       "    <tr style=\"text-align: right;\">\n",
       "      <th></th>\n",
       "      <th>id</th>\n",
       "      <th>qid1</th>\n",
       "      <th>qid2</th>\n",
       "      <th>question1</th>\n",
       "      <th>question2</th>\n",
       "      <th>is_duplicate</th>\n",
       "    </tr>\n",
       "  </thead>\n",
       "  <tbody>\n",
       "    <tr>\n",
       "      <th>0</th>\n",
       "      <td>0</td>\n",
       "      <td>1</td>\n",
       "      <td>2</td>\n",
       "      <td>What is the step by step guide to invest in sh...</td>\n",
       "      <td>What is the step by step guide to invest in sh...</td>\n",
       "      <td>0</td>\n",
       "    </tr>\n",
       "    <tr>\n",
       "      <th>1</th>\n",
       "      <td>1</td>\n",
       "      <td>3</td>\n",
       "      <td>4</td>\n",
       "      <td>What is the story of Kohinoor (Koh-i-Noor) Dia...</td>\n",
       "      <td>What would happen if the Indian government sto...</td>\n",
       "      <td>0</td>\n",
       "    </tr>\n",
       "    <tr>\n",
       "      <th>2</th>\n",
       "      <td>2</td>\n",
       "      <td>5</td>\n",
       "      <td>6</td>\n",
       "      <td>How can I increase the speed of my internet co...</td>\n",
       "      <td>How can Internet speed be increased by hacking...</td>\n",
       "      <td>0</td>\n",
       "    </tr>\n",
       "    <tr>\n",
       "      <th>3</th>\n",
       "      <td>3</td>\n",
       "      <td>7</td>\n",
       "      <td>8</td>\n",
       "      <td>Why am I mentally very lonely? How can I solve...</td>\n",
       "      <td>Find the remainder when [math]23^{24}[/math] i...</td>\n",
       "      <td>0</td>\n",
       "    </tr>\n",
       "    <tr>\n",
       "      <th>4</th>\n",
       "      <td>4</td>\n",
       "      <td>9</td>\n",
       "      <td>10</td>\n",
       "      <td>Which one dissolve in water quikly sugar, salt...</td>\n",
       "      <td>Which fish would survive in salt water?</td>\n",
       "      <td>0</td>\n",
       "    </tr>\n",
       "  </tbody>\n",
       "</table>\n",
       "</div>"
      ],
      "text/plain": [
       "   id  qid1  qid2                                          question1  \\\n",
       "0   0     1     2  What is the step by step guide to invest in sh...   \n",
       "1   1     3     4  What is the story of Kohinoor (Koh-i-Noor) Dia...   \n",
       "2   2     5     6  How can I increase the speed of my internet co...   \n",
       "3   3     7     8  Why am I mentally very lonely? How can I solve...   \n",
       "4   4     9    10  Which one dissolve in water quikly sugar, salt...   \n",
       "\n",
       "                                           question2  is_duplicate  \n",
       "0  What is the step by step guide to invest in sh...             0  \n",
       "1  What would happen if the Indian government sto...             0  \n",
       "2  How can Internet speed be increased by hacking...             0  \n",
       "3  Find the remainder when [math]23^{24}[/math] i...             0  \n",
       "4            Which fish would survive in salt water?             0  "
      ]
     },
     "execution_count": 186,
     "metadata": {},
     "output_type": "execute_result"
    }
   ],
   "source": [
    "data_train = pd.read_csv('data/train.csv')\n",
    "data_train.head()"
   ]
  },
  {
   "cell_type": "markdown",
   "metadata": {},
   "source": [
    "In this dataset we can find the following information:\n",
    "* qid1: Unique ID of question 1\n",
    "* qid2: Unique ID of question 2\n",
    "* question1: Content of question 1\n",
    "* question2: Content of question 2\n",
    "* is_duplicate: A label stating if both questions are the same (1) or not (0)"
   ]
  },
  {
   "cell_type": "markdown",
   "metadata": {},
   "source": [
    "Next, I will display some basic statistics about the dataset."
   ]
  },
  {
   "cell_type": "code",
   "execution_count": 4,
   "metadata": {
    "collapsed": false
   },
   "outputs": [
    {
     "name": "stdout",
     "output_type": "stream",
     "text": [
      "Number of rows: 404290\n",
      "Duplicate pair of questions: 149263\n",
      "Not duplicate pair of questions: 255027\n",
      "Unique questions: 537933\n"
     ]
    }
   ],
   "source": [
    "print(\"Number of rows: %d\" %len(data_train))\n",
    "dup = data_train[data_train.is_duplicate == 1]\n",
    "n_dup = data_train[data_train.is_duplicate == 0]\n",
    "print(\"Duplicate pair of questions: %d\" %len(dup))\n",
    "print(\"Not duplicate pair of questions: %d\" %len(data_train[data_train.is_duplicate == 0]))\n",
    "\n",
    "qids = data_train.qid1.tolist() + data_train.qid2.tolist()\n",
    "print(\"Unique questions: %d\" %len(set(qids)))"
   ]
  },
  {
   "cell_type": "markdown",
   "metadata": {},
   "source": [
    "### Exploratory Visualization"
   ]
  },
  {
   "cell_type": "markdown",
   "metadata": {},
   "source": [
    "Now I will do a brief analysis of the questions in the training set. I will use the Natural Language Tool Kit (nltk) for this, and I will display an histogram to see the frequency of the lengths of the questions."
   ]
  },
  {
   "cell_type": "code",
   "execution_count": 5,
   "metadata": {
    "collapsed": false,
    "scrolled": false
   },
   "outputs": [
    {
     "data": {
      "image/png": "[encoded data removed]",
      "text/plain": [
       "<matplotlib.figure.Figure at 0x31d31908>"
      ]
     },
     "metadata": {},
     "output_type": "display_data"
    }
   ],
   "source": [
    "import nltk\n",
    "\n",
    "q_tok = []\n",
    "q_tok += [nltk.tokenize.word_tokenize(i) for i in data_train.question1.apply(lambda x: str(x).decode('utf-8'))]\n",
    "q_tok += [nltk.tokenize.word_tokenize(i) for i in data_train.question2.apply(lambda x: str(x).decode('utf-8'))]\n",
    "\n",
    "word_count = [len(i) for i in q_tok]\n",
    "\n",
    "plt.figure(figsize=(16,9))\n",
    "plt.hist(word_count, bins=30, range=[0,70], normed=True)\n",
    "plt.title(\"Normalized histogram of word count\", fontsize=20)\n",
    "plt.xlabel(\"Number of words\", fontsize=14)\n",
    "plt.ylabel(\"Appearances\", fontsize=14)\n",
    "plt.show()"
   ]
  },
  {
   "cell_type": "markdown",
   "metadata": {},
   "source": [
    "As we might see here, most of the questions are composed from about 8 to 12 words. There are some of them which can have even more than 50 words. I will not exclude these outliers, because when comparing lengths I will use the absolute value, and not a normalized one. Hence, outliers should not affect my outcome. "
   ]
  },
  {
   "cell_type": "markdown",
   "metadata": {},
   "source": [
    "### Algorithms and Techniques"
   ]
  },
  {
   "cell_type": "markdown",
   "metadata": {},
   "source": [
    "For this project I will evaluate 3 algorithms: AdaBoost, Random Forest and XGBoost. The reason for this is that they are all ensemble methods, which work well for problems where the features are weak learners. In this problem all the features will be so, because there doesn't seem to be one that is highly correlated with the meaning of the question.\n",
    "\n",
    "I will try the 3 models and determine which has the minimum log-loss. After that, I will tune this model to find the best possible parameters for this problem."
   ]
  },
  {
   "cell_type": "markdown",
   "metadata": {},
   "source": [
    "### Benchmark: Naive predictor\n",
    "As a Benchmark for testing the effectiveness of this model, I will use a predictor that evaluates if two questions are equal just based on the probability of this happening. I will assign this same probability to every pair of questions. I will upload this result to the Kaggle platform an evaluate the log-loss obtained. This will be my benchmark to see if I can obtain a better model for this."
   ]
  },
  {
   "cell_type": "code",
   "execution_count": 6,
   "metadata": {
    "collapsed": true
   },
   "outputs": [],
   "source": [
    "prob = data_train.is_duplicate.mean()\n",
    "\n",
    "data_test = pd.read_csv(\"data/test.csv\")"
   ]
  },
  {
   "cell_type": "code",
   "execution_count": 9,
   "metadata": {
    "collapsed": true
   },
   "outputs": [],
   "source": [
    "submission = pd.DataFrame(data_test.test_id)"
   ]
  },
  {
   "cell_type": "code",
   "execution_count": 14,
   "metadata": {
    "collapsed": true
   },
   "outputs": [],
   "source": [
    "test_is_duplicate = []\n",
    "\n",
    "for i in range(len(submission.test_id)):\n",
    "    test_is_duplicate.append(prob)"
   ]
  },
  {
   "cell_type": "code",
   "execution_count": 15,
   "metadata": {
    "collapsed": false
   },
   "outputs": [
    {
     "data": {
      "text/html": [
       "<div>\n",
       "<table border=\"1\" class=\"dataframe\">\n",
       "  <thead>\n",
       "    <tr style=\"text-align: right;\">\n",
       "      <th></th>\n",
       "      <th>test_id</th>\n",
       "      <th>is_duplicate</th>\n",
       "    </tr>\n",
       "  </thead>\n",
       "  <tbody>\n",
       "    <tr>\n",
       "      <th>0</th>\n",
       "      <td>0</td>\n",
       "      <td>0.369198</td>\n",
       "    </tr>\n",
       "    <tr>\n",
       "      <th>1</th>\n",
       "      <td>1</td>\n",
       "      <td>0.369198</td>\n",
       "    </tr>\n",
       "    <tr>\n",
       "      <th>2</th>\n",
       "      <td>2</td>\n",
       "      <td>0.369198</td>\n",
       "    </tr>\n",
       "    <tr>\n",
       "      <th>3</th>\n",
       "      <td>3</td>\n",
       "      <td>0.369198</td>\n",
       "    </tr>\n",
       "    <tr>\n",
       "      <th>4</th>\n",
       "      <td>4</td>\n",
       "      <td>0.369198</td>\n",
       "    </tr>\n",
       "  </tbody>\n",
       "</table>\n",
       "</div>"
      ],
      "text/plain": [
       "   test_id  is_duplicate\n",
       "0        0      0.369198\n",
       "1        1      0.369198\n",
       "2        2      0.369198\n",
       "3        3      0.369198\n",
       "4        4      0.369198"
      ]
     },
     "execution_count": 15,
     "metadata": {},
     "output_type": "execute_result"
    }
   ],
   "source": [
    "submission['is_duplicate'] = test_is_duplicate\n",
    "submission.head()"
   ]
  },
  {
   "cell_type": "code",
   "execution_count": 16,
   "metadata": {
    "collapsed": true
   },
   "outputs": [],
   "source": [
    "submission.to_csv('sub/naive_predictor.csv', index=False)"
   ]
  },
  {
   "cell_type": "markdown",
   "metadata": {},
   "source": [
    "The log-loss obtained was **0.55411**. This will be used as a benchmark, and any model with a lower value will be considered better."
   ]
  },
  {
   "cell_type": "code",
   "execution_count": 17,
   "metadata": {
    "collapsed": true
   },
   "outputs": [],
   "source": [
    "del submission"
   ]
  },
  {
   "cell_type": "markdown",
   "metadata": {},
   "source": [
    "## III. Methodology"
   ]
  },
  {
   "cell_type": "markdown",
   "metadata": {},
   "source": [
    "### Data Preprocessing"
   ]
  },
  {
   "cell_type": "markdown",
   "metadata": {},
   "source": [
    "I will now pre process the raw data, for which I will need a series of steps stated below:\n",
    "\n",
    "* Removing stop words: The first step will be to remove all words that are considered not to give valuable information about the content of the question. Examples of this will be _you_, _have_, _the_, _to_, etc., and punctuation.\n",
    "* Applying stemming: In order to consider the same word _car_ and _cars_, I will apply a stemming algorithm that keeps the root of each word.\n",
    "* Tokenize: I will split questions into list of words, so that I can loop and compare them easily.\n",
    "* Tf-Idf: With this I will consider the importance of a word related to it's frequency, instead of considering them equal. The fact that 2 question share a word that appears often will be less important than if they share a rare word.\n",
    "* DiffLib: This is a Python library that will help me finding differences between 2 strings. Specifically, I will be using the SequenceMatcher method.\n",
    "\n",
    "By doing these steps, I will get a new set of features, which will be composed of:\n",
    "* shared_weights: a measure of how many words both questions share, weighted by the tf-idf value of each word.\n",
    "* shared_count_scaled: it will represent the normalized amount of words that they have in common.\n",
    "* len_dif: the difference between the lengths of the questions.\n",
    "* z_match_ratio: the value obtained from the SequenceMatcher method.\n",
    "\n",
    "I will also check if these features seem relevant to classify between equal and unequal questions. For this, I will use histograms.\n"
   ]
  },
  {
   "cell_type": "code",
   "execution_count": 187,
   "metadata": {
    "collapsed": true
   },
   "outputs": [],
   "source": [
    "data_train = data_train[0:10000]"
   ]
  },
  {
   "cell_type": "markdown",
   "metadata": {},
   "source": [
    "### Implementation\n",
    "In this section, the process for which metrics, algorithms, and techniques that you implemented for the given data will need to be clearly documented. It should be abundantly clear how the implementation was carried out, and discussion should be made regarding any complications that occurred during this process. Questions to ask yourself when writing this section:\n",
    "- _Is it made clear how the algorithms and techniques were implemented with the given datasets or input data?_\n",
    "- _Were there any complications with the original metrics or techniques that required changing prior to acquiring a solution?_\n",
    "- _Was there any part of the coding process (e.g., writing complicated functions) that should be documented?_"
   ]
  },
  {
   "cell_type": "markdown",
   "metadata": {},
   "source": [
    "First, I will define all the functions that I will use for preprocessing."
   ]
  },
  {
   "cell_type": "markdown",
   "metadata": {},
   "source": [
    "###### Removing stop words and applying stemming."
   ]
  },
  {
   "cell_type": "code",
   "execution_count": 19,
   "metadata": {
    "collapsed": true
   },
   "outputs": [],
   "source": [
    "# Import libraries\n",
    "from nltk.stem.snowball import SnowballStemmer\n",
    "import re\n",
    "from nltk.corpus import stopwords\n",
    "\n",
    "# Define stemmer method and stop words\n",
    "stemmer = SnowballStemmer(\"english\")\n",
    "stop_words = set(stopwords.words('english'))\n",
    "stop_words.update(['.', ',', '\"', \"'\", '?', '!', ':', ';', '(', ')', '[', ']', '{', '}']) # Adds punctuation to stopwords\n",
    "\n",
    "\n",
    "def cleanQuestions(q_list):\n",
    "    clean_questions = []\n",
    "\n",
    "    for i in range(len(q_list)):\n",
    "        q1 = ''\n",
    "        for j in re.findall(r\"[\\w']+\", str(q_list[i])):\n",
    "            if j not in stop_words:\n",
    "                q1 += stemmer.stem(j)\n",
    "                q1 += \" \"\n",
    "        q = ''\n",
    "        for j in q1.split(): # Because the first words where not taken before\n",
    "            if j not in stop_words:\n",
    "                q += j\n",
    "                q += \" \"\n",
    "        clean_questions.append(q.strip()) # To remove the last blank space\n",
    "        \n",
    "    return clean_questions"
   ]
  },
  {
   "cell_type": "markdown",
   "metadata": {},
   "source": [
    "###### Tf-Idf\n",
    "\n",
    "Now I will apply a TF-IDF model in order to get the relative importance of each word. In this way, words which appear more often will be less important than words that appear less.\n",
    "\n",
    "First, I need to identify the unique questions, because some of them are repeated in the dataset and otherwise would generate a different result."
   ]
  },
  {
   "cell_type": "code",
   "execution_count": 34,
   "metadata": {
    "collapsed": false
   },
   "outputs": [],
   "source": [
    "def uniqueQuestions():\n",
    "    questions = []\n",
    "\n",
    "    for i in tqdm(range(len(questions1_clean))):\n",
    "        questions.append(str(questions1_clean[i]))\n",
    "        questions.append(str(questions2_clean[i]))\n",
    "    \n",
    "    questions = set(questions)\n",
    "\n",
    "    print(\"There are %d unique questions in the dataset.\" %len(questions))\n",
    "    \n",
    "    return questions"
   ]
  },
  {
   "cell_type": "code",
   "execution_count": 21,
   "metadata": {
    "collapsed": true
   },
   "outputs": [],
   "source": [
    "def tfIdfVectorizer(questions):\n",
    "    # Import the library\n",
    "    from sklearn.feature_extraction.text import TfidfVectorizer\n",
    "    # Obtain the Tf-Idf value of each word, using the TfidfVectorizer function from sklearn\n",
    "    vectorizer = TfidfVectorizer(max_df=0.5)\n",
    "    tfidf = vectorizer.fit_transform(questions)\n",
    "    idf = vectorizer.idf_\n",
    "    # Create and return a dictionary with every word as a key, and its respective weight as a value\n",
    "    return dict(zip(vectorizer.get_feature_names(), idf))"
   ]
  },
  {
   "cell_type": "markdown",
   "metadata": {},
   "source": [
    "###### Tokenize"
   ]
  },
  {
   "cell_type": "code",
   "execution_count": 23,
   "metadata": {
    "collapsed": true
   },
   "outputs": [],
   "source": [
    "def tokenizeQuestions(q):\n",
    "    return [nltk.tokenize.word_tokenize(i) for i in q]"
   ]
  },
  {
   "cell_type": "markdown",
   "metadata": {},
   "source": [
    "###### Getting the weighted percentage of shared words\n",
    "\n",
    "First, I need a list of the shared words, and a list of all the words for each pair"
   ]
  },
  {
   "cell_type": "code",
   "execution_count": 24,
   "metadata": {
    "collapsed": true
   },
   "outputs": [],
   "source": [
    "def sharedWords(q1, q2):\n",
    "    shared_words = []\n",
    "    total_words = []\n",
    "\n",
    "    for i in tqdm(range(len(q1))):\n",
    "        shared = []\n",
    "        total = []\n",
    "        for w in q1[i]:\n",
    "            total.append(w)\n",
    "            if w in q2[i]:\n",
    "                shared.append(w)\n",
    "        for w in q2[i]:\n",
    "            total.append(w)\n",
    "            if w in q1[i]:\n",
    "                shared.append(w)\n",
    "        shared_words.append(shared)\n",
    "        total_words.append(total)\n",
    "    return shared_words, total_words"
   ]
  },
  {
   "cell_type": "markdown",
   "metadata": {},
   "source": [
    "I will now create 2 new lists with the shared and total weights, using the idf dictionary created before."
   ]
  },
  {
   "cell_type": "code",
   "execution_count": 60,
   "metadata": {
    "collapsed": true
   },
   "outputs": [],
   "source": [
    "def sharedWeights(shared_words):\n",
    "    shared_weights = []\n",
    "    total_weights = []\n",
    "    not_in_dict = []\n",
    "    for i in tqdm(range(len(shared_words))):\n",
    "        shared = []\n",
    "        total = []\n",
    "        for w in shared_words[i]:\n",
    "            try:\n",
    "                shared.append(idf_dict[w])\n",
    "            except:\n",
    "                not_in_dict.append(w)\n",
    "                shared.append(0)\n",
    "        for w in total_words[i]:\n",
    "            try:\n",
    "                total.append(idf_dict[w])\n",
    "            except:\n",
    "                not_in_dict.append(w)\n",
    "                shared.append(0)\n",
    "        shared_weights.append(shared)\n",
    "        total_weights.append(total)\n",
    "    return shared_weights, total_weights"
   ]
  },
  {
   "cell_type": "markdown",
   "metadata": {},
   "source": [
    "Finally, I need a list that has the sum of all the shared weights divided by the sum of all the weights for each pair of questions."
   ]
  },
  {
   "cell_type": "code",
   "execution_count": 206,
   "metadata": {
    "collapsed": true
   },
   "outputs": [],
   "source": [
    "def getWeights(shared_weights):\n",
    "    weights = []\n",
    "    for i in range(len(shared_weights)):\n",
    "        shared = 0\n",
    "        total = 0\n",
    "        for j in range(len(shared_weights[i])):\n",
    "            shared += shared_weights[i][j]\n",
    "        for j in range(len(total_weights[i])):\n",
    "            total += total_weights[i][j]\n",
    "        if total == 0:\n",
    "            weights.append(0)\n",
    "        else:\n",
    "            weights.append(shared / total)\n",
    "    return weights"
   ]
  },
  {
   "cell_type": "markdown",
   "metadata": {},
   "source": [
    "###### I will now apply these transformations to the training dataset."
   ]
  },
  {
   "cell_type": "code",
   "execution_count": 193,
   "metadata": {
    "collapsed": false
   },
   "outputs": [
    {
     "name": "stderr",
     "output_type": "stream",
     "text": [
      "100%|████████████████████████████████████████████████████████████████████████| 10000/10000 [00:00<00:00, 624998.73it/s]\n"
     ]
    },
    {
     "name": "stdout",
     "output_type": "stream",
     "text": [
      "There are 18669 unique questions in the dataset.\n"
     ]
    }
   ],
   "source": [
    "questions1 = data_train.question1.tolist()\n",
    "questions2 = data_train.question2.tolist()\n",
    "\n",
    "questions1_clean = cleanQuestions(questions1)\n",
    "questions2_clean = cleanQuestions(questions2)\n",
    "\n",
    "questions = uniqueQuestions()"
   ]
  },
  {
   "cell_type": "code",
   "execution_count": 194,
   "metadata": {
    "collapsed": false
   },
   "outputs": [],
   "source": [
    "idf_dict = tfIdfVectorizer(questions)"
   ]
  },
  {
   "cell_type": "code",
   "execution_count": 201,
   "metadata": {
    "collapsed": true
   },
   "outputs": [],
   "source": [
    "unique_tokens = [nltk.tokenize.word_tokenize(str(i)) for i in questions]"
   ]
  },
  {
   "cell_type": "code",
   "execution_count": 202,
   "metadata": {
    "collapsed": false
   },
   "outputs": [
    {
     "name": "stdout",
     "output_type": "stream",
     "text": [
      "Questions 1 tokenized.\n",
      "Questions 2 tokenized.\n"
     ]
    },
    {
     "name": "stderr",
     "output_type": "stream",
     "text": [
      "100%|█████████████████████████████████████████████████████████████████████████| 10000/10000 [00:00<00:00, 77519.41it/s]\n"
     ]
    }
   ],
   "source": [
    "question1_token = tokenizeQuestions(questions1_clean)\n",
    "print 'Questions 1 tokenized.'\n",
    "question2_token = tokenizeQuestions(questions2_clean)\n",
    "print 'Questions 2 tokenized.'\n",
    "\n",
    "shared_words, total_words = sharedWords(question1_token, question2_token)"
   ]
  },
  {
   "cell_type": "code",
   "execution_count": 203,
   "metadata": {
    "collapsed": false
   },
   "outputs": [
    {
     "name": "stderr",
     "output_type": "stream",
     "text": [
      "100%|█████████████████████████████████████████████████████████████████████████| 10000/10000 [00:00<00:00, 94339.46it/s]\n"
     ]
    }
   ],
   "source": [
    "shared_weights, total_weights = sharedWeights(shared_words)"
   ]
  },
  {
   "cell_type": "code",
   "execution_count": 207,
   "metadata": {
    "collapsed": false
   },
   "outputs": [],
   "source": [
    "weights = getWeights(shared_weights)"
   ]
  },
  {
   "cell_type": "markdown",
   "metadata": {},
   "source": [
    "For each new feature that I create, I will plot the distribution of the duplicate and non duplicate questions, in order to see if this feature seems to be useful for predicting. I will start defining a function that will allow me to do this easier."
   ]
  },
  {
   "cell_type": "code",
   "execution_count": 327,
   "metadata": {
    "collapsed": true
   },
   "outputs": [],
   "source": [
    "def plotDistribution(feature, desc):\n",
    "    plt.figure(figsize=(15, 5))\n",
    "    plt.hist(X[y['is_duplicate'] == 0][feature].tolist(), bins=20, normed=True, label='Not Duplicate')\n",
    "    plt.hist(X[y['is_duplicate'] == 1][feature].tolist(), bins=20, normed=True, alpha=0.7, label='Duplicate')\n",
    "    plt.legend()\n",
    "    plt.title('Label distribution over ' + desc, fontsize=15)\n",
    "    plt.xlabel(desc, fontsize=15)\n",
    "    plt.ylabel('frequency', fontsize=15)\n",
    "    plt.show()"
   ]
  },
  {
   "cell_type": "code",
   "execution_count": 328,
   "metadata": {
    "collapsed": false
   },
   "outputs": [
    {
     "data": {
      "image/png": "[encoded data removed]",
      "text/plain": [
       "<matplotlib.figure.Figure at 0x788ad160>"
      ]
     },
     "metadata": {},
     "output_type": "display_data"
    }
   ],
   "source": [
    "plotDistribution('shared_weights', 'shared weights')"
   ]
  },
  {
   "cell_type": "markdown",
   "metadata": {},
   "source": [
    "This feature, **shared_weights**, looks to give some information about the equalness of a pair of questions."
   ]
  },
  {
   "cell_type": "markdown",
   "metadata": {},
   "source": [
    "I will start a new DataFrame and fill it with the features I create."
   ]
  },
  {
   "cell_type": "code",
   "execution_count": 209,
   "metadata": {
    "collapsed": false
   },
   "outputs": [
    {
     "data": {
      "text/html": [
       "<div>\n",
       "<table border=\"1\" class=\"dataframe\">\n",
       "  <thead>\n",
       "    <tr style=\"text-align: right;\">\n",
       "      <th></th>\n",
       "      <th>shared_weights</th>\n",
       "    </tr>\n",
       "  </thead>\n",
       "  <tbody>\n",
       "    <tr>\n",
       "      <th>0</th>\n",
       "      <td>0.951107</td>\n",
       "    </tr>\n",
       "    <tr>\n",
       "      <th>1</th>\n",
       "      <td>0.628847</td>\n",
       "    </tr>\n",
       "    <tr>\n",
       "      <th>2</th>\n",
       "      <td>0.518414</td>\n",
       "    </tr>\n",
       "    <tr>\n",
       "      <th>3</th>\n",
       "      <td>0.000000</td>\n",
       "    </tr>\n",
       "    <tr>\n",
       "      <th>4</th>\n",
       "      <td>0.245394</td>\n",
       "    </tr>\n",
       "  </tbody>\n",
       "</table>\n",
       "</div>"
      ],
      "text/plain": [
       "   shared_weights\n",
       "0        0.951107\n",
       "1        0.628847\n",
       "2        0.518414\n",
       "3        0.000000\n",
       "4        0.245394"
      ]
     },
     "execution_count": 209,
     "metadata": {},
     "output_type": "execute_result"
    }
   ],
   "source": [
    "X = pd.DataFrame(weights, columns=['shared_weights'])\n",
    "X.head()"
   ]
  },
  {
   "cell_type": "markdown",
   "metadata": {},
   "source": [
    "The next feature I will generate will be the number of shared words in both questions."
   ]
  },
  {
   "cell_type": "code",
   "execution_count": 356,
   "metadata": {
    "collapsed": true
   },
   "outputs": [],
   "source": [
    "shared_count = [len(x) for x in shared_words]"
   ]
  },
  {
   "cell_type": "markdown",
   "metadata": {},
   "source": [
    "In order to see the distribution of this feature, I will plot an histogram. I will define a function that will allow me to do this easier for future features."
   ]
  },
  {
   "cell_type": "code",
   "execution_count": 354,
   "metadata": {
    "collapsed": true
   },
   "outputs": [],
   "source": [
    "def plotHistogram(feature, desc):\n",
    "    plt.figure(figsize=(15, 5))\n",
    "    plt.hist(feature, bins=40)\n",
    "    plt.title('Distribution of ' + desc, fontsize=15)\n",
    "    plt.xlabel(desc, fontsize=15)\n",
    "    plt.ylabel('frequency', fontsize=15)\n",
    "    plt.show()"
   ]
  },
  {
   "cell_type": "code",
   "execution_count": 357,
   "metadata": {
    "collapsed": false
   },
   "outputs": [
    {
     "data": {
      "image/png": "[encoded data removed]",
      "text/plain": [
       "<matplotlib.figure.Figure at 0x7a1f6c50>"
      ]
     },
     "metadata": {},
     "output_type": "display_data"
    }
   ],
   "source": [
    "plotHistogram(shared_count, 'shared count')"
   ]
  },
  {
   "cell_type": "markdown",
   "metadata": {},
   "source": [
    "In order to make it more relevant, I will use the MinMaxScaler function of sklearn, for scaling this feature before using it. As we can see in the prior histogram, most of the cases share 10 words or less, so including the ones with higher values will make this scaling to lose power. I will therefor consider all the cases with more than 10 shared words as if they had just 10."
   ]
  },
  {
   "cell_type": "code",
   "execution_count": 358,
   "metadata": {
    "collapsed": false
   },
   "outputs": [
    {
     "data": {
      "text/html": [
       "<div>\n",
       "<table border=\"1\" class=\"dataframe\">\n",
       "  <thead>\n",
       "    <tr style=\"text-align: right;\">\n",
       "      <th></th>\n",
       "      <th>shared_weights</th>\n",
       "      <th>shared_count_scaled</th>\n",
       "      <th>len_dif</th>\n",
       "      <th>z_match_ratio</th>\n",
       "    </tr>\n",
       "  </thead>\n",
       "  <tbody>\n",
       "    <tr>\n",
       "      <th>0</th>\n",
       "      <td>0.951107</td>\n",
       "      <td>1.0</td>\n",
       "      <td>0.2</td>\n",
       "      <td>0.926829</td>\n",
       "    </tr>\n",
       "    <tr>\n",
       "      <th>1</th>\n",
       "      <td>0.628847</td>\n",
       "      <td>0.8</td>\n",
       "      <td>1.0</td>\n",
       "      <td>0.661871</td>\n",
       "    </tr>\n",
       "    <tr>\n",
       "      <th>2</th>\n",
       "      <td>0.518414</td>\n",
       "      <td>0.6</td>\n",
       "      <td>0.2</td>\n",
       "      <td>0.439394</td>\n",
       "    </tr>\n",
       "    <tr>\n",
       "      <th>3</th>\n",
       "      <td>0.000000</td>\n",
       "      <td>0.0</td>\n",
       "      <td>1.0</td>\n",
       "      <td>0.086957</td>\n",
       "    </tr>\n",
       "    <tr>\n",
       "      <th>4</th>\n",
       "      <td>0.245394</td>\n",
       "      <td>0.4</td>\n",
       "      <td>1.0</td>\n",
       "      <td>0.365217</td>\n",
       "    </tr>\n",
       "  </tbody>\n",
       "</table>\n",
       "</div>"
      ],
      "text/plain": [
       "   shared_weights  shared_count_scaled  len_dif  z_match_ratio\n",
       "0        0.951107                  1.0      0.2       0.926829\n",
       "1        0.628847                  0.8      1.0       0.661871\n",
       "2        0.518414                  0.6      0.2       0.439394\n",
       "3        0.000000                  0.0      1.0       0.086957\n",
       "4        0.245394                  0.4      1.0       0.365217"
      ]
     },
     "execution_count": 358,
     "metadata": {},
     "output_type": "execute_result"
    }
   ],
   "source": [
    "from sklearn.preprocessing import MinMaxScaler\n",
    "\n",
    "shared_count_cut = [x if x < 10 else 10 for x in shared_count]\n",
    "\n",
    "shared_count_scaled = MinMaxScaler().fit_transform(np.array(shared_count_cut, dtype='float64').reshape(-1, 1))\n",
    "\n",
    "X['shared_count_scaled'] = shared_count_scaled.reshape(-1, 1)\n",
    "\n",
    "del shared_count, shared_count_cut, shared_count_scaled\n",
    "\n",
    "X.head()"
   ]
  },
  {
   "cell_type": "markdown",
   "metadata": {},
   "source": [
    "To see how useful this feature is, I will use the function created before and analyze the plot."
   ]
  },
  {
   "cell_type": "code",
   "execution_count": 348,
   "metadata": {
    "collapsed": false
   },
   "outputs": [
    {
     "data": {
      "image/png": "[encoded data removed]",
      "text/plain": [
       "<matplotlib.figure.Figure at 0x79dcb940>"
      ]
     },
     "metadata": {},
     "output_type": "display_data"
    }
   ],
   "source": [
    "plotDistribution('shared_count_scaled', 'shared count scaled')"
   ]
  },
  {
   "cell_type": "markdown",
   "metadata": {},
   "source": [
    "I can see that pairs with a higher value tend to be duplicated in more cases than the ones with lower values."
   ]
  },
  {
   "cell_type": "markdown",
   "metadata": {},
   "source": [
    "The next feature I will add is the difference in the length of the question. Again, I will scale it to get a value between 0 and 1."
   ]
  },
  {
   "cell_type": "code",
   "execution_count": 365,
   "metadata": {
    "collapsed": true
   },
   "outputs": [],
   "source": [
    "question1_len = [len(x) for x in question1_token]\n",
    "question2_len = [len(x) for x in question2_token]\n",
    "\n",
    "len_dif = []\n",
    "\n",
    "for i in range(len(question1_len)):\n",
    "    len_dif.append(abs(question1_len[i] - question2_len[i]))"
   ]
  },
  {
   "cell_type": "code",
   "execution_count": 359,
   "metadata": {
    "collapsed": false
   },
   "outputs": [
    {
     "data": {
      "image/png": "[encoded data removed]",
      "text/plain": [
       "<matplotlib.figure.Figure at 0x7a0b9b38>"
      ]
     },
     "metadata": {},
     "output_type": "display_data"
    }
   ],
   "source": [
    "plotHistogram(len_dif, 'length difference')"
   ]
  },
  {
   "cell_type": "markdown",
   "metadata": {},
   "source": [
    "I can see from this plot that most of the values are lower than 5, so again I will convert higher values to 5, and then rescale it with the MinMaxScaler method."
   ]
  },
  {
   "cell_type": "code",
   "execution_count": 366,
   "metadata": {
    "collapsed": false
   },
   "outputs": [
    {
     "data": {
      "text/html": [
       "<div>\n",
       "<table border=\"1\" class=\"dataframe\">\n",
       "  <thead>\n",
       "    <tr style=\"text-align: right;\">\n",
       "      <th></th>\n",
       "      <th>shared_weights</th>\n",
       "      <th>shared_count_scaled</th>\n",
       "      <th>len_dif</th>\n",
       "      <th>z_match_ratio</th>\n",
       "    </tr>\n",
       "  </thead>\n",
       "  <tbody>\n",
       "    <tr>\n",
       "      <th>0</th>\n",
       "      <td>0.951107</td>\n",
       "      <td>1.0</td>\n",
       "      <td>0.2</td>\n",
       "      <td>0.926829</td>\n",
       "    </tr>\n",
       "    <tr>\n",
       "      <th>1</th>\n",
       "      <td>0.628847</td>\n",
       "      <td>0.8</td>\n",
       "      <td>1.0</td>\n",
       "      <td>0.661871</td>\n",
       "    </tr>\n",
       "    <tr>\n",
       "      <th>2</th>\n",
       "      <td>0.518414</td>\n",
       "      <td>0.6</td>\n",
       "      <td>0.2</td>\n",
       "      <td>0.439394</td>\n",
       "    </tr>\n",
       "    <tr>\n",
       "      <th>3</th>\n",
       "      <td>0.000000</td>\n",
       "      <td>0.0</td>\n",
       "      <td>1.0</td>\n",
       "      <td>0.086957</td>\n",
       "    </tr>\n",
       "    <tr>\n",
       "      <th>4</th>\n",
       "      <td>0.245394</td>\n",
       "      <td>0.4</td>\n",
       "      <td>1.0</td>\n",
       "      <td>0.365217</td>\n",
       "    </tr>\n",
       "  </tbody>\n",
       "</table>\n",
       "</div>"
      ],
      "text/plain": [
       "   shared_weights  shared_count_scaled  len_dif  z_match_ratio\n",
       "0        0.951107                  1.0      0.2       0.926829\n",
       "1        0.628847                  0.8      1.0       0.661871\n",
       "2        0.518414                  0.6      0.2       0.439394\n",
       "3        0.000000                  0.0      1.0       0.086957\n",
       "4        0.245394                  0.4      1.0       0.365217"
      ]
     },
     "execution_count": 366,
     "metadata": {},
     "output_type": "execute_result"
    }
   ],
   "source": [
    "len_dif_cut = [5 if i > 5 else i for i in len_dif]\n",
    "len_dif_cut = np.array(len_dif_cut).reshape(-1, 1)\n",
    "\n",
    "len_dif_scaled = MinMaxScaler().fit_transform(len_dif_cut)\n",
    "\n",
    "X['len_dif'] = len_dif_scaled\n",
    "\n",
    "del len_dif, len_dif_cut\n",
    "\n",
    "X.head()"
   ]
  },
  {
   "cell_type": "code",
   "execution_count": 368,
   "metadata": {
    "collapsed": false
   },
   "outputs": [
    {
     "data": {
      "text/plain": [
       "<matplotlib.figure.Figure at 0x7a0d2e48>"
      ]
     },
     "metadata": {},
     "output_type": "display_data"
    },
    {
     "data": {
      "image/png": "[encoded data removed]",
      "text/plain": [
       "<matplotlib.figure.Figure at 0x792862e8>"
      ]
     },
     "metadata": {},
     "output_type": "display_data"
    }
   ],
   "source": [
    "plotDistribution('len_dif', 'length difference scaled')"
   ]
  },
  {
   "cell_type": "markdown",
   "metadata": {},
   "source": [
    "Again, this feature seems to be useful for predicting."
   ]
  },
  {
   "cell_type": "markdown",
   "metadata": {},
   "source": [
    "### DiffLib"
   ]
  },
  {
   "cell_type": "code",
   "execution_count": 369,
   "metadata": {
    "collapsed": true
   },
   "outputs": [],
   "source": [
    "import difflib\n",
    "\n",
    "def diff_ratios(st1, st2):\n",
    "    seq = difflib.SequenceMatcher()\n",
    "    seq.set_seqs(str(st1).lower(), str(st2).lower())\n",
    "    return seq.ratio()"
   ]
  },
  {
   "cell_type": "code",
   "execution_count": 370,
   "metadata": {
    "collapsed": false
   },
   "outputs": [
    {
     "name": "stderr",
     "output_type": "stream",
     "text": [
      "100%|██████████████████████████████████████████████████████████████████████████| 10000/10000 [00:03<00:00, 2697.60it/s]\n"
     ]
    },
    {
     "data": {
      "text/html": [
       "<div>\n",
       "<table border=\"1\" class=\"dataframe\">\n",
       "  <thead>\n",
       "    <tr style=\"text-align: right;\">\n",
       "      <th></th>\n",
       "      <th>shared_weights</th>\n",
       "      <th>shared_count_scaled</th>\n",
       "      <th>len_dif</th>\n",
       "      <th>z_match_ratio</th>\n",
       "    </tr>\n",
       "  </thead>\n",
       "  <tbody>\n",
       "    <tr>\n",
       "      <th>0</th>\n",
       "      <td>0.951107</td>\n",
       "      <td>1.0</td>\n",
       "      <td>0.2</td>\n",
       "      <td>0.926829</td>\n",
       "    </tr>\n",
       "    <tr>\n",
       "      <th>1</th>\n",
       "      <td>0.628847</td>\n",
       "      <td>0.8</td>\n",
       "      <td>1.0</td>\n",
       "      <td>0.661871</td>\n",
       "    </tr>\n",
       "    <tr>\n",
       "      <th>2</th>\n",
       "      <td>0.518414</td>\n",
       "      <td>0.6</td>\n",
       "      <td>0.2</td>\n",
       "      <td>0.439394</td>\n",
       "    </tr>\n",
       "    <tr>\n",
       "      <th>3</th>\n",
       "      <td>0.000000</td>\n",
       "      <td>0.0</td>\n",
       "      <td>1.0</td>\n",
       "      <td>0.086957</td>\n",
       "    </tr>\n",
       "    <tr>\n",
       "      <th>4</th>\n",
       "      <td>0.245394</td>\n",
       "      <td>0.4</td>\n",
       "      <td>1.0</td>\n",
       "      <td>0.365217</td>\n",
       "    </tr>\n",
       "  </tbody>\n",
       "</table>\n",
       "</div>"
      ],
      "text/plain": [
       "   shared_weights  shared_count_scaled  len_dif  z_match_ratio\n",
       "0        0.951107                  1.0      0.2       0.926829\n",
       "1        0.628847                  0.8      1.0       0.661871\n",
       "2        0.518414                  0.6      0.2       0.439394\n",
       "3        0.000000                  0.0      1.0       0.086957\n",
       "4        0.245394                  0.4      1.0       0.365217"
      ]
     },
     "execution_count": 370,
     "metadata": {},
     "output_type": "execute_result"
    }
   ],
   "source": [
    "z_match_ratio = []\n",
    "\n",
    "for i in tqdm(range(len(data_train))):\n",
    "    z_match_ratio.append(diff_ratios(data_train.question1[i], data_train.question2[i]))\n",
    "                         \n",
    "X['z_match_ratio'] = z_match_ratio\n",
    "\n",
    "X.head()"
   ]
  },
  {
   "cell_type": "code",
   "execution_count": 371,
   "metadata": {
    "collapsed": false
   },
   "outputs": [
    {
     "data": {
      "image/png": "[encoded data removed]",
      "text/plain": [
       "<matplotlib.figure.Figure at 0x77c11940>"
      ]
     },
     "metadata": {},
     "output_type": "display_data"
    }
   ],
   "source": [
    "plotDistribution('z_match_ratio', ' z match ratio')"
   ]
  },
  {
   "cell_type": "markdown",
   "metadata": {},
   "source": [
    "### Labels"
   ]
  },
  {
   "cell_type": "markdown",
   "metadata": {},
   "source": [
    "In order to be able to test the algorithms, I will now generate a new DataFrame with the label for each pair of questions. This label will have value 0 if they don't mean the same, and 1 if they do."
   ]
  },
  {
   "cell_type": "code",
   "execution_count": 372,
   "metadata": {
    "collapsed": true
   },
   "outputs": [],
   "source": [
    "y = pd.DataFrame(data_train.is_duplicate, columns=['is_duplicate'])"
   ]
  },
  {
   "cell_type": "markdown",
   "metadata": {},
   "source": [
    "Finally, I will split the features and labels into a training and test set, in order to look for a good model. At the end, when I finally decide which to use, I will use the whole set for training, and I will test using the Kaggle testing set."
   ]
  },
  {
   "cell_type": "code",
   "execution_count": 388,
   "metadata": {
    "collapsed": true
   },
   "outputs": [],
   "source": [
    "from sklearn.model_selection import train_test_split\n",
    "\n",
    "x_train, x_test, y_train, y_test = train_test_split(X, y, test_size=0.2, random_state=50)"
   ]
  },
  {
   "cell_type": "markdown",
   "metadata": {},
   "source": [
    "###### Model selection"
   ]
  },
  {
   "cell_type": "markdown",
   "metadata": {},
   "source": [
    "Now that I have both the features that I will try, and the labels for each data point, I will start with the analysis of 3 different models which might obtain a good result: Random forest, AdaBoost and XGBoost."
   ]
  },
  {
   "cell_type": "code",
   "execution_count": 378,
   "metadata": {
    "collapsed": true
   },
   "outputs": [],
   "source": [
    "from sklearn.metrics import log_loss"
   ]
  },
  {
   "cell_type": "markdown",
   "metadata": {},
   "source": [
    "###### AdaBoost"
   ]
  },
  {
   "cell_type": "code",
   "execution_count": 389,
   "metadata": {
    "collapsed": false
   },
   "outputs": [
    {
     "name": "stdout",
     "output_type": "stream",
     "text": [
      "Log loss: 0.663591\n"
     ]
    }
   ],
   "source": [
    "from sklearn.ensemble import AdaBoostClassifier\n",
    "from sklearn.tree import DecisionTreeClassifier\n",
    "\n",
    "clf = AdaBoostClassifier(random_state=50)\n",
    "clf.fit(x_train, np.ravel(y_train))\n",
    "\n",
    "pred = clf.predict_proba(x_test)\n",
    "\n",
    "print 'Log loss: %f' %log_loss(y_test, pred)"
   ]
  },
  {
   "cell_type": "code",
   "execution_count": 386,
   "metadata": {
    "collapsed": false
   },
   "outputs": [
    {
     "name": "stdout",
     "output_type": "stream",
     "text": [
      "Log loss: 0.547313\n"
     ]
    }
   ],
   "source": [
    "from sklearn.ensemble import AdaBoostClassifier\n",
    "from sklearn.tree import DecisionTreeClassifier\n",
    "\n",
    "dt = DecisionTreeClassifier(criterion='gini', \n",
    "                            splitter='best', \n",
    "                            max_depth=None, \n",
    "                            min_samples_split=30, \n",
    "                            min_samples_leaf=30, \n",
    "                            min_weight_fraction_leaf=0.01, \n",
    "                            max_features=None, \n",
    "                            random_state=None, \n",
    "                            max_leaf_nodes=None, \n",
    "                            min_impurity_split=1e-07, \n",
    "                            class_weight=None, \n",
    "                            presort=False)\n",
    "\n",
    "clf = AdaBoostClassifier(base_estimator=dt, n_estimators=5, learning_rate=0.5, random_state=50)\n",
    "clf.fit(x_train, np.ravel(y_train))\n",
    "\n",
    "pred = clf.predict_proba(x_test)\n",
    "\n",
    "print 'Log loss: %f' %log_loss(y_test, pred)"
   ]
  },
  {
   "cell_type": "markdown",
   "metadata": {},
   "source": [
    "###### Random Forest"
   ]
  },
  {
   "cell_type": "code",
   "execution_count": 390,
   "metadata": {
    "collapsed": false
   },
   "outputs": [
    {
     "name": "stdout",
     "output_type": "stream",
     "text": [
      "Log loss: 0.679992\n"
     ]
    }
   ],
   "source": [
    "from sklearn.ensemble import RandomForestClassifier\n",
    "\n",
    "clf= RandomForestClassifier(n_estimators=100)\n",
    "\n",
    "clf.fit(x_train, np.ravel(y_train))\n",
    "\n",
    "pred = clf.predict_proba(x_test)\n",
    "\n",
    "print 'Log loss: %f' %log_loss(y_test, pred)"
   ]
  },
  {
   "cell_type": "code",
   "execution_count": 412,
   "metadata": {
    "collapsed": false
   },
   "outputs": [
    {
     "name": "stdout",
     "output_type": "stream",
     "text": [
      "Log loss: 0.547233\n"
     ]
    }
   ],
   "source": [
    "from sklearn.ensemble import RandomForestClassifier\n",
    "\n",
    "clf= RandomForestClassifier(n_estimators=100, \n",
    "                            criterion='gini', \n",
    "                            max_depth=None, \n",
    "                            min_samples_split=2, \n",
    "                            min_samples_leaf=2, \n",
    "                            min_weight_fraction_leaf=0.0, \n",
    "                            max_features='auto', \n",
    "                            max_leaf_nodes=None, \n",
    "                            min_impurity_split=1e-07, \n",
    "                            bootstrap=True, \n",
    "                            oob_score=False, \n",
    "                            n_jobs=1, \n",
    "                            random_state=50, \n",
    "                            verbose=0, \n",
    "                            warm_start=False, \n",
    "                            class_weight=None)\n",
    "\n",
    "clf.fit(x_train, np.ravel(y_train))\n",
    "\n",
    "pred = clf.predict_proba(x_test)\n",
    "\n",
    "print 'Log loss: %f' %log_loss(y_test, pred)"
   ]
  },
  {
   "cell_type": "markdown",
   "metadata": {},
   "source": [
    "###### XGBoost"
   ]
  },
  {
   "cell_type": "code",
   "execution_count": 180,
   "metadata": {
    "collapsed": true
   },
   "outputs": [],
   "source": [
    "import os\n",
    "\n",
    "mingw_path = 'C:\\\\Program Files\\\\mingw-w64\\\\x86_64-5.3.0-posix-seh-rt_v4-rev0\\\\mingw64\\\\bin'\n",
    "\n",
    "os.environ['PATH'] = mingw_path + ';' + os.environ['PATH']\n",
    "\n",
    "import xgboost as xgb"
   ]
  },
  {
   "cell_type": "code",
   "execution_count": 377,
   "metadata": {
    "collapsed": false
   },
   "outputs": [
    {
     "name": "stdout",
     "output_type": "stream",
     "text": [
      "[0]\ttrain-logloss:0.68746\ttest-logloss:0.687678\n",
      "Multiple eval metrics have been passed: 'test-logloss' will be used for early stopping.\n",
      "\n",
      "Will train until test-logloss hasn't improved in 50 rounds.\n",
      "[10]\ttrain-logloss:0.640941\ttest-logloss:0.643796\n",
      "[20]\ttrain-logloss:0.60812\ttest-logloss:0.612925\n",
      "[30]\ttrain-logloss:0.58394\ttest-logloss:0.590473\n",
      "[40]\ttrain-logloss:0.565784\ttest-logloss:0.573843\n",
      "[50]\ttrain-logloss:0.551673\ttest-logloss:0.561279\n",
      "[60]\ttrain-logloss:0.540699\ttest-logloss:0.551964\n",
      "[70]\ttrain-logloss:0.531942\ttest-logloss:0.544781\n",
      "[80]\ttrain-logloss:0.524989\ttest-logloss:0.539276\n",
      "[90]\ttrain-logloss:0.519556\ttest-logloss:0.534975\n",
      "[99]\ttrain-logloss:0.51567\ttest-logloss:0.532289\n"
     ]
    }
   ],
   "source": [
    "params = {}\n",
    "params['objective'] = 'binary:logistic'\n",
    "params['eval_metric'] = 'logloss'\n",
    "params['eta'] = 0.02\n",
    "params['max_depth'] = 4\n",
    "\n",
    "d_train = xgb.DMatrix(x_train, label=y_train)\n",
    "d_test = xgb.DMatrix(x_test, label=y_test)\n",
    "\n",
    "watchlist = [(d_train, 'train'), (d_test, 'test')]\n",
    "\n",
    "bst = xgb.train(params, d_train, 100, watchlist, early_stopping_rounds=50, verbose_eval=10)"
   ]
  },
  {
   "cell_type": "markdown",
   "metadata": {},
   "source": [
    "As we can see, the three models have a similar log-loss, so in order to determine which is potentially better, I should tune each of them to find the best possible parameters. In the next section, I will focus on that."
   ]
  },
  {
   "cell_type": "markdown",
   "metadata": {},
   "source": [
    "### Refinement"
   ]
  },
  {
   "cell_type": "markdown",
   "metadata": {},
   "source": [
    "In order to find which is the best of the three models, I will tune them and see which one gives me the lowest log-loss. For tuning, I will use the GridSearchCV tool from the scikit-learn library."
   ]
  },
  {
   "cell_type": "code",
   "execution_count": 391,
   "metadata": {
    "collapsed": true
   },
   "outputs": [],
   "source": [
    "from sklearn.model_selection import GridSearchCV"
   ]
  },
  {
   "cell_type": "markdown",
   "metadata": {},
   "source": [
    "I will now define a function that will allow me to use GridSearchCV in a simpler way."
   ]
  },
  {
   "cell_type": "code",
   "execution_count": 483,
   "metadata": {
    "collapsed": false
   },
   "outputs": [],
   "source": [
    "def gridSearch(clf, base=None, params={}, base_params={}):\n",
    "    start = time.time()\n",
    "    \n",
    "    param_grid = dict()\n",
    "    for i in params.keys():\n",
    "        param_grid[i] = params[i]\n",
    "    for i in base_params.keys():\n",
    "        param_grid['base_estimator__' + i] = base_params[i]\n",
    "    if base == None:\n",
    "        pass\n",
    "    else:\n",
    "        clf = type(clf)(base_estimator=base, random_state=50)\n",
    "    gs = GridSearchCV(clf, param_grid, scoring='neg_log_loss')\n",
    "    gs.fit(x_train, np.ravel(y_train))\n",
    "    \n",
    "    end = time.time()\n",
    "    \n",
    "    pred = gs.predict_proba(x_test)\n",
    "    print 'Time taken: %f seconds' %(end - start)\n",
    "    print 'Log loss: %f' %log_loss(y_test, pred)\n",
    "    best_params = [i + ': ' + str(gs.best_params_[i]) for i in gs.best_params_.keys()]\n",
    "    print 'Best parameters:'\n",
    "    if params != {}:\n",
    "        print '   Classifier:'\n",
    "        for i in range(len(params.keys())):\n",
    "            print '      ' + best_params[i]\n",
    "    if base_params != {}:\n",
    "        print '   Base Estimator:'\n",
    "        for i in range(len(base_params.keys())):\n",
    "            print '      ' + best_params[i + len(params.keys())][16:]"
   ]
  },
  {
   "cell_type": "markdown",
   "metadata": {},
   "source": [
    "For every model I will apply GridSearchCV to a series of parameters that I consider they have a bigger effect on log-loss. I tried every single parameter before, and given the results I chose these. In order to make it quicker, I will try them separately. If I put all of them together the search can take a very long time."
   ]
  },
  {
   "cell_type": "markdown",
   "metadata": {},
   "source": [
    "###### AdaBoost"
   ]
  },
  {
   "cell_type": "code",
   "execution_count": 473,
   "metadata": {
    "collapsed": false
   },
   "outputs": [
    {
     "name": "stdout",
     "output_type": "stream",
     "text": [
      "Time taken: 11.520000 seconds\n",
      "Log loss: 0.557928\n",
      "Best parameters:\n",
      "   Base Estimator:\n",
      "      min_samples_split: 30\n",
      "      min_samples_leaf: 30\n"
     ]
    }
   ],
   "source": [
    "gridSearch(AdaBoostClassifier(random_state=50), \n",
    "           base=DecisionTreeClassifier(), \n",
    "           base_params={'min_samples_split':[10, 30], \n",
    "                        'min_samples_leaf':[10, 30]})"
   ]
  },
  {
   "cell_type": "code",
   "execution_count": 481,
   "metadata": {
    "collapsed": false
   },
   "outputs": [
    {
     "name": "stdout",
     "output_type": "stream",
     "text": [
      "Time taken: 23.626000 seconds\n",
      "Log loss: 0.547105\n",
      "Best parameters:\n",
      "   Classifier:\n",
      "      n_estimators: 70\n",
      "   Base Estimator:\n",
      "      min_weight_fraction_leaf: 0.0\n"
     ]
    }
   ],
   "source": [
    "gridSearch(AdaBoostClassifier(random_state=50),\n",
    "          base=DecisionTreeClassifier(min_samples_split=30,\n",
    "                                     min_samples_leaf=30),\n",
    "           params={'n_estimators':[70, 50]},\n",
    "           base_params={'min_weight_fraction_leaf': [0.0, 0.01]}\n",
    "          )"
   ]
  },
  {
   "cell_type": "code",
   "execution_count": 484,
   "metadata": {
    "collapsed": false
   },
   "outputs": [
    {
     "name": "stdout",
     "output_type": "stream",
     "text": [
      "Time taken: 20.736000 seconds\n",
      "Log loss: 0.556870\n",
      "Best parameters:\n",
      "   Classifier:\n",
      "      learning_rate: 0.5\n"
     ]
    }
   ],
   "source": [
    "gridSearch(AdaBoostClassifier(n_estimators=70, random_state=50),\n",
    "          base=DecisionTreeClassifier(min_samples_split=30,\n",
    "                                     min_samples_leaf=30,\n",
    "                                     min_weight_fraction_leaf=0.0),\n",
    "           params={'learning_rate':[0.1, 0.3, 0.5]})"
   ]
  },
  {
   "cell_type": "markdown",
   "metadata": {},
   "source": [
    "The best log-loss that I can get from the AdaBoost algorithm is **0.55**."
   ]
  },
  {
   "cell_type": "markdown",
   "metadata": {},
   "source": [
    "###### Random Forest"
   ]
  },
  {
   "cell_type": "code",
   "execution_count": 487,
   "metadata": {
    "collapsed": false
   },
   "outputs": [
    {
     "name": "stdout",
     "output_type": "stream",
     "text": [
      "Time taken: 26.459000 seconds\n",
      "Log loss: 0.513683\n",
      "Best parameters:\n",
      "   Classifier:\n",
      "      n_estimators: 200\n",
      "      min_samples_leaf: 10\n"
     ]
    }
   ],
   "source": [
    "gridSearch(RandomForestClassifier(random_state=50), \n",
    "          params={'n_estimators':[100, 200],\n",
    "                 'min_samples_leaf': [5, 10]})"
   ]
  },
  {
   "cell_type": "markdown",
   "metadata": {},
   "source": [
    "The best log-loss obtained from RandomForest is **0.51**."
   ]
  },
  {
   "cell_type": "markdown",
   "metadata": {},
   "source": [
    "###### XGBoost\n",
    "\n",
    "In order to use GridSearchCV with XGBoost, I will need to use the sklearn implementation of this algorithm."
   ]
  },
  {
   "cell_type": "code",
   "execution_count": 497,
   "metadata": {
    "collapsed": false
   },
   "outputs": [
    {
     "name": "stdout",
     "output_type": "stream",
     "text": [
      "Time taken: 3.975000 seconds\n",
      "Log loss: 0.516590\n",
      "Best parameters:\n",
      "   Classifier:\n",
      "      reg_alpha: 0.5\n",
      "      max_depth: 3\n"
     ]
    }
   ],
   "source": [
    "xgbclf = xgb.XGBClassifier(seed=50)\n",
    "\n",
    "gridSearch(xgbclf, \n",
    "          params={'max_depth': [2, 3, 4],\n",
    "                 'reg_alpha': [0.3, 0.5]})"
   ]
  },
  {
   "cell_type": "code",
   "execution_count": 503,
   "metadata": {
    "collapsed": false
   },
   "outputs": [
    {
     "name": "stdout",
     "output_type": "stream",
     "text": [
      "Time taken: 4.071000 seconds\n",
      "Log loss: 0.516987\n",
      "Best parameters:\n",
      "   Classifier:\n",
      "      learning_rate: 0.1\n",
      "      gamma: 0.1\n"
     ]
    }
   ],
   "source": [
    "xgbclf = xgb.XGBClassifier(max_depth=3, \n",
    "                           reg_alpha=0.5,\n",
    "                           seed=50)\n",
    "\n",
    "gridSearch(xgbclf, \n",
    "          params={'learning_rate': [0.1, 0.3, 0.5],\n",
    "                 'gamma': [0.0, 0.1]})"
   ]
  },
  {
   "cell_type": "code",
   "execution_count": 508,
   "metadata": {
    "collapsed": false
   },
   "outputs": [
    {
     "name": "stdout",
     "output_type": "stream",
     "text": [
      "Time taken: 5.039000 seconds\n",
      "Log loss: 0.516987\n",
      "Best parameters:\n",
      "   Classifier:\n",
      "      reg_lambda: 1\n",
      "      min_child_weight: 1\n"
     ]
    }
   ],
   "source": [
    "xgbclf = xgb.XGBClassifier(max_depth=3, \n",
    "                           reg_alpha=0.5,\n",
    "                           learning_rate=0.1,\n",
    "                           gamma=0.1,\n",
    "                           seed=50)\n",
    "\n",
    "gridSearch(xgbclf, \n",
    "          params={'reg_lambda': [0.5, 0.7, 1],\n",
    "                 'min_child_weight': [0.5, 1, 2]})"
   ]
  },
  {
   "cell_type": "markdown",
   "metadata": {},
   "source": [
    "The log loss obtained from XGBoost is **0.51**.\n",
    "\n",
    "I will choose the **Random Forest** algorithm, given that it has the lowest log loss, together with the XGBoost, and it is the algorithm currently used by Quora for this task, as stated in the Kaggle competition's description."
   ]
  },
  {
   "cell_type": "markdown",
   "metadata": {},
   "source": [
    "###### Rebalancing positive an negative cases\n",
    "\n",
    "Based on this article from Kaggle and it's comments, I know that the distribution of possitive and negative cases in the test data is not the same as the one in the training data: https://www.kaggle.com/davidthaler/quora-question-pairs/how-many-1-s-are-in-the-public-lb/run/1013730. In the training data we have around 37% of positive cases, while the test data has around 16.5%.\n",
    "So for having a better score from Kaggle I need to rebalance the data."
   ]
  },
  {
   "cell_type": "code",
   "execution_count": 515,
   "metadata": {
    "collapsed": false
   },
   "outputs": [
    {
     "name": "stdout",
     "output_type": "stream",
     "text": [
      "Unbalanced ratio: 0.371100\n",
      "Balanced ratio: 0.164933 \n"
     ]
    }
   ],
   "source": [
    "pos_train = X[y.is_duplicate == 1]\n",
    "neg_train = X[y.is_duplicate == 0]\n",
    "\n",
    "p = 0.165 # target ratio\n",
    "\n",
    "n = 0\n",
    "\n",
    "print 'Unbalanced ratio: %f' %(1.0 * len(pos_train) / (len(pos_train) + len(neg_train)))\n",
    "\n",
    "while 1.0 * len(pos_train) / (len(pos_train) + len(neg_train)) >= p:\n",
    "    if n < len(neg_train):\n",
    "        neg_train = neg_train.append(neg_train[n:n+50])\n",
    "        n += 50\n",
    "    \n",
    "print 'Balanced ratio: %f ' %(1.0 * len(pos_train) / (len(pos_train) + len(neg_train)))\n",
    "\n",
    "X_r = pd.concat([pos_train, neg_train])\n",
    "y_r = (np.zeros(len(pos_train)) + 1).tolist() + np.zeros(len(neg_train)).tolist()\n",
    "del pos_train, neg_train\n",
    "\n"
   ]
  },
  {
   "cell_type": "code",
   "execution_count": 516,
   "metadata": {
    "collapsed": true
   },
   "outputs": [],
   "source": [
    "x_train, x_test, y_train, y_test = train_test_split(X_r, y_r, test_size=0.2, random_state=50)"
   ]
  },
  {
   "cell_type": "markdown",
   "metadata": {},
   "source": [
    "I will try tuning some extra parameters, given the balanced set. "
   ]
  },
  {
   "cell_type": "code",
   "execution_count": 522,
   "metadata": {
    "collapsed": false
   },
   "outputs": [
    {
     "name": "stdout",
     "output_type": "stream",
     "text": [
      "Time taken: 30.853000 seconds\n",
      "Log loss: 0.296720\n",
      "Best parameters:\n",
      "   Classifier:\n",
      "      min_samples_leaf: 2\n"
     ]
    }
   ],
   "source": [
    "gridSearch(RandomForestClassifier(n_estimators=200, random_state=50), \n",
    "          params={'min_samples_leaf': [2, 10]})"
   ]
  },
  {
   "cell_type": "markdown",
   "metadata": {},
   "source": [
    "This is the final classifier that I will use for testing in the Kaggle testing set."
   ]
  },
  {
   "cell_type": "code",
   "execution_count": 523,
   "metadata": {
    "collapsed": false
   },
   "outputs": [
    {
     "data": {
      "text/plain": [
       "RandomForestClassifier(bootstrap=True, class_weight=None, criterion='gini',\n",
       "            max_depth=None, max_features='auto', max_leaf_nodes=None,\n",
       "            min_impurity_split=1e-07, min_samples_leaf=2,\n",
       "            min_samples_split=2, min_weight_fraction_leaf=0.0,\n",
       "            n_estimators=200, n_jobs=1, oob_score=False, random_state=50,\n",
       "            verbose=0, warm_start=False)"
      ]
     },
     "execution_count": 523,
     "metadata": {},
     "output_type": "execute_result"
    }
   ],
   "source": [
    "clf = RandomForestClassifier(n_estimators=200, min_samples_leaf=2, random_state=50)\n",
    "clf.fit(x_train, np.ravel(y_train))"
   ]
  },
  {
   "cell_type": "markdown",
   "metadata": {},
   "source": [
    "## IV. Results"
   ]
  },
  {
   "cell_type": "markdown",
   "metadata": {},
   "source": [
    "### Model Evaluation and Validation\n",
    "In this section, the final model and any supporting qualities should be evaluated in detail. It should be clear how the final model was derived and why this model was chosen. In addition, some type of analysis should be used to validate the robustness of this model and its solution, such as manipulating the input data or environment to see how the model’s solution is affected (this is called sensitivity analysis). Questions to ask yourself when writing this section:\n",
    "- _Is the final model reasonable and aligning with solution expectations? Are the final parameters of the model appropriate?_\n",
    "- _Has the final model been tested with various inputs to evaluate whether the model generalizes well to unseen data?_\n",
    "- _Is the model robust enough for the problem? Do small perturbations (changes) in training data or the input space greatly affect the results?_\n",
    "- _Can results found from the model be trusted?_"
   ]
  },
  {
   "cell_type": "markdown",
   "metadata": {},
   "source": [
    "### Justification\n",
    "In this section, your model’s final solution and its results should be compared to the benchmark you established earlier in the project using some type of statistical analysis. You should also justify whether these results and the solution are significant enough to have solved the problem posed in the project. Questions to ask yourself when writing this section:\n",
    "- _Are the final results found stronger than the benchmark result reported earlier?_\n",
    "- _Have you thoroughly analyzed and discussed the final solution?_\n",
    "- _Is the final solution significant enough to have solved the problem?_"
   ]
  },
  {
   "cell_type": "markdown",
   "metadata": {},
   "source": [
    "## V. Conclusion"
   ]
  },
  {
   "cell_type": "markdown",
   "metadata": {},
   "source": [
    "### Free-Form Visualization\n",
    "In this section, you will need to provide some form of visualization that emphasizes an important quality about the project. It is much more free-form, but should reasonably support a significant result or characteristic about the problem that you want to discuss. Questions to ask yourself when writing this section:\n",
    "- _Have you visualized a relevant or important quality about the problem, dataset, input data, or results?_\n",
    "- _Is the visualization thoroughly analyzed and discussed?_\n",
    "- _If a plot is provided, are the axes, title, and datum clearly defined?_"
   ]
  },
  {
   "cell_type": "markdown",
   "metadata": {},
   "source": [
    "### Reflection\n",
    "In this section, you will summarize the entire end-to-end problem solution and discuss one or two particular aspects of the project you found interesting or difficult. You are expected to reflect on the project as a whole to show that you have a firm understanding of the entire process employed in your work. Questions to ask yourself when writing this section:\n",
    "- _Have you thoroughly summarized the entire process you used for this project?_\n",
    "- _Were there any interesting aspects of the project?_\n",
    "- _Were there any difficult aspects of the project?_\n",
    "- _Does the final model and solution fit your expectations for the problem, and should it be used in a general setting to solve these types of problems?_"
   ]
  },
  {
   "cell_type": "markdown",
   "metadata": {},
   "source": [
    "### Improvement\n",
    "In this section, you will need to provide discussion as to how one aspect of the implementation you designed could be improved. As an example, consider ways your implementation can be made more general, and what would need to be modified. You do not need to make this improvement, but the potential solutions resulting from these changes are considered and compared/contrasted to your current solution. Questions to ask yourself when writing this section:\n",
    "- _Are there further improvements that could be made on the algorithms or techniques you used in this project?_\n",
    "- _Were there algorithms or techniques you researched that you did not know how to implement, but would consider using if you knew how?_\n",
    "- _If you used your final solution as the new benchmark, do you think an even better solution exists?_"
   ]
  },
  {
   "cell_type": "markdown",
   "metadata": {},
   "source": [
    "Now that the sample is rebalanced, I will split it in training and testing set, like before, and apply the XGBoost algorithm."
   ]
  },
  {
   "cell_type": "code",
   "execution_count": 319,
   "metadata": {
    "collapsed": false
   },
   "outputs": [
    {
     "name": "stdout",
     "output_type": "stream",
     "text": [
      "[0]\ttrain-logloss:0.458508\ttest-logloss:0.476235\n",
      "Multiple eval metrics have been passed: 'test-logloss' will be used for early stopping.\n",
      "\n",
      "Will train until test-logloss hasn't improved in 50 rounds.\n",
      "[10]\ttrain-logloss:0.210523\ttest-logloss:0.323688\n",
      "[20]\ttrain-logloss:0.166248\ttest-logloss:0.315457\n",
      "[30]\ttrain-logloss:0.135345\ttest-logloss:0.309675\n",
      "[40]\ttrain-logloss:0.114643\ttest-logloss:0.308856\n",
      "[50]\ttrain-logloss:0.093957\ttest-logloss:0.306456\n",
      "[60]\ttrain-logloss:0.081235\ttest-logloss:0.304939\n",
      "[70]\ttrain-logloss:0.070006\ttest-logloss:0.304151\n",
      "[80]\ttrain-logloss:0.063938\ttest-logloss:0.305651\n",
      "[90]\ttrain-logloss:0.059846\ttest-logloss:0.304831\n",
      "[99]\ttrain-logloss:0.055009\ttest-logloss:0.303503\n"
     ]
    }
   ],
   "source": [
    "d_train = xgb.DMatrix(x_train, label=y_train)\n",
    "d_test = xgb.DMatrix(x_test, label=y_test)\n",
    "\n",
    "watchlist = [(d_train, 'train'), (d_test, 'test')]\n",
    "\n",
    "bst = xgb.train(params, d_train, 100, watchlist, early_stopping_rounds=50, verbose_eval=10)"
   ]
  },
  {
   "cell_type": "markdown",
   "metadata": {},
   "source": [
    "We can see now that the log loss is much better than before. I will now try with other parameters until I get a better log loss. I obtained these parameters modifying them lots of times and checking which obtained the lowest log loss."
   ]
  },
  {
   "cell_type": "code",
   "execution_count": 314,
   "metadata": {
    "collapsed": false
   },
   "outputs": [
    {
     "name": "stdout",
     "output_type": "stream",
     "text": [
      "[0]\ttrain-logloss:0.457812\ttest-logloss:0.476352\n",
      "Multiple eval metrics have been passed: 'test-logloss' will be used for early stopping.\n",
      "\n",
      "Will train until test-logloss hasn't improved in 50 rounds.\n",
      "[10]\ttrain-logloss:0.20869\ttest-logloss:0.321138\n",
      "[20]\ttrain-logloss:0.169395\ttest-logloss:0.314806\n",
      "[30]\ttrain-logloss:0.136222\ttest-logloss:0.303153\n",
      "[40]\ttrain-logloss:0.117616\ttest-logloss:0.301794\n",
      "[50]\ttrain-logloss:0.099276\ttest-logloss:0.299842\n",
      "[60]\ttrain-logloss:0.08515\ttest-logloss:0.296251\n",
      "[70]\ttrain-logloss:0.076136\ttest-logloss:0.294052\n",
      "[80]\ttrain-logloss:0.067595\ttest-logloss:0.294793\n",
      "[90]\ttrain-logloss:0.059943\ttest-logloss:0.29562\n",
      "[100]\ttrain-logloss:0.054667\ttest-logloss:0.29613\n",
      "[110]\ttrain-logloss:0.049825\ttest-logloss:0.29739\n",
      "[120]\ttrain-logloss:0.045852\ttest-logloss:0.299981\n",
      "Stopping. Best iteration:\n",
      "[71]\ttrain-logloss:0.075313\ttest-logloss:0.293313\n",
      "\n"
     ]
    }
   ],
   "source": [
    "params['objective'] = 'binary:logistic'\n",
    "#params['objective'] = 'reg:logistic'\n",
    "params['eval_metric'] = 'logloss'\n",
    "params['eta'] = 0.5\n",
    "params['max_depth'] = 15\n",
    "params['alpha'] = 0.5\n",
    "params['lambda'] = 0.7\n",
    "\n",
    "d_train = xgb.DMatrix(x_train, label=y_train)\n",
    "d_test = xgb.DMatrix(x_test, label=y_test)\n",
    "\n",
    "watchlist = [(d_train, 'train'), (d_test, 'test')]\n",
    "\n",
    "bst = xgb.train(params, d_train, 200, watchlist, early_stopping_rounds=50, verbose_eval=10)"
   ]
  },
  {
   "cell_type": "markdown",
   "metadata": {},
   "source": [
    "The log loss after tuning is about 0.32. I will now try the algorithm in the testing set, and upload it to Kaggle to see the result, and the position in the Leaderboard. First I need to obtain the same features than before, but for the testing set."
   ]
  },
  {
   "cell_type": "code",
   "execution_count": 43,
   "metadata": {
    "collapsed": true
   },
   "outputs": [],
   "source": [
    "data_test = pd.read_csv(\"data/test.csv\")"
   ]
  },
  {
   "cell_type": "code",
   "execution_count": 44,
   "metadata": {
    "collapsed": true
   },
   "outputs": [],
   "source": [
    "questions1 = data_test.question1.tolist()\n",
    "questions2 = data_test.question2.tolist()\n",
    "    \n",
    "clean_questions = {'question1_clean': cleanQuestions(questions1), 'question2_clean': cleanQuestions(questions2)}"
   ]
  },
  {
   "cell_type": "code",
   "execution_count": 45,
   "metadata": {
    "collapsed": false
   },
   "outputs": [
    {
     "name": "stdout",
     "output_type": "stream",
     "text": [
      "There are 3345831 unique questions in the dataset.\n"
     ]
    }
   ],
   "source": [
    "questions1_clean = clean_questions['question1_clean']\n",
    "questions2_clean = clean_questions['question2_clean']\n",
    "\n",
    "questions = []\n",
    "\n",
    "for i in range(len(questions1_clean)):\n",
    "    questions.append(str(questions1_clean[i]))\n",
    "    questions.append(str(questions2_clean[i]))\n",
    "    \n",
    "questions = set(questions)\n",
    "\n",
    "print(\"There are %d unique questions in the dataset.\" %len(questions))"
   ]
  },
  {
   "cell_type": "code",
   "execution_count": 46,
   "metadata": {
    "collapsed": true
   },
   "outputs": [],
   "source": [
    "unique_tokens = [nltk.tokenize.word_tokenize(str(i)) for i in questions]"
   ]
  },
  {
   "cell_type": "code",
   "execution_count": 47,
   "metadata": {
    "collapsed": true
   },
   "outputs": [],
   "source": [
    "vectorizer = TfidfVectorizer(max_df=0.5)\n",
    "\n",
    "tfidf = vectorizer.fit_transform(questions)"
   ]
  },
  {
   "cell_type": "code",
   "execution_count": 48,
   "metadata": {
    "collapsed": true
   },
   "outputs": [],
   "source": [
    "idf = vectorizer.idf_\n",
    "idf_dict = dict(zip(vectorizer.get_feature_names(), idf))"
   ]
  },
  {
   "cell_type": "code",
   "execution_count": 51,
   "metadata": {
    "collapsed": true
   },
   "outputs": [],
   "source": [
    "question1_token = [nltk.tokenize.word_tokenize(i) for i in questions1_clean]\n",
    "question2_token = [nltk.tokenize.word_tokenize(i) for i in questions2_clean]\n",
    "\n",
    "shared_words = []\n",
    "total_words = []\n",
    "\n",
    "for i in range(len(question1_token)):\n",
    "    shared = []\n",
    "    total = []\n",
    "    for w in question1_token[i]:\n",
    "        total.append(w)\n",
    "        if w in question2_token[i]:\n",
    "            shared.append(w)\n",
    "    for w in question2_token[i]:\n",
    "        total.append(w)\n",
    "        if w in question1_token[i]:\n",
    "            shared.append(w)\n",
    "    shared_words.append(shared)\n",
    "    total_words.append(total)"
   ]
  },
  {
   "cell_type": "code",
   "execution_count": 52,
   "metadata": {
    "collapsed": true
   },
   "outputs": [],
   "source": [
    "shared_weights = []\n",
    "total_weights = []\n",
    "not_in_dict = []\n",
    "\n",
    "for i in range(len(shared_words)):\n",
    "    shared = []\n",
    "    total = []\n",
    "    for w in shared_words[i]:\n",
    "        try:\n",
    "            shared.append(idf_dict[w])\n",
    "        except:\n",
    "            not_in_dict.append(w)\n",
    "            shared.append(0)\n",
    "    for w in total_words[i]:\n",
    "        try:\n",
    "            total.append(idf_dict[w])\n",
    "        except:\n",
    "            not_in_dict.append(w)\n",
    "            shared.append(0)\n",
    "    shared_weights.append(shared)\n",
    "    total_weights.append(total)"
   ]
  },
  {
   "cell_type": "code",
   "execution_count": 53,
   "metadata": {
    "collapsed": true
   },
   "outputs": [],
   "source": [
    "weights = []\n",
    "\n",
    "for i in range(len(shared_weights)):\n",
    "    shared = 0\n",
    "    total = 0\n",
    "    for j in range(len(shared_weights[i])):\n",
    "        shared += shared_weights[i][j]\n",
    "    for j in range(len(total_weights[i])):\n",
    "        total += total_weights[i][j]\n",
    "    if total == 0:\n",
    "        weights.append(0)\n",
    "    else:\n",
    "        weights.append(shared / total)"
   ]
  },
  {
   "cell_type": "code",
   "execution_count": 54,
   "metadata": {
    "collapsed": false
   },
   "outputs": [
    {
     "data": {
      "text/html": [
       "<div>\n",
       "<style>\n",
       "    .dataframe thead tr:only-child th {\n",
       "        text-align: right;\n",
       "    }\n",
       "\n",
       "    .dataframe thead th {\n",
       "        text-align: left;\n",
       "    }\n",
       "\n",
       "    .dataframe tbody tr th {\n",
       "        vertical-align: top;\n",
       "    }\n",
       "</style>\n",
       "<table border=\"1\" class=\"dataframe\">\n",
       "  <thead>\n",
       "    <tr style=\"text-align: right;\">\n",
       "      <th></th>\n",
       "      <th>shared_weights</th>\n",
       "    </tr>\n",
       "  </thead>\n",
       "  <tbody>\n",
       "    <tr>\n",
       "      <th>0</th>\n",
       "      <td>0.343789</td>\n",
       "    </tr>\n",
       "    <tr>\n",
       "      <th>1</th>\n",
       "      <td>0.674897</td>\n",
       "    </tr>\n",
       "    <tr>\n",
       "      <th>2</th>\n",
       "      <td>0.730260</td>\n",
       "    </tr>\n",
       "    <tr>\n",
       "      <th>3</th>\n",
       "      <td>0.352380</td>\n",
       "    </tr>\n",
       "    <tr>\n",
       "      <th>4</th>\n",
       "      <td>0.631104</td>\n",
       "    </tr>\n",
       "  </tbody>\n",
       "</table>\n",
       "</div>"
      ],
      "text/plain": [
       "   shared_weights\n",
       "0        0.343789\n",
       "1        0.674897\n",
       "2        0.730260\n",
       "3        0.352380\n",
       "4        0.631104"
      ]
     },
     "execution_count": 54,
     "metadata": {},
     "output_type": "execute_result"
    }
   ],
   "source": [
    "X = pd.DataFrame(weights, columns=['shared_weights'])\n",
    "X.head()"
   ]
  },
  {
   "cell_type": "code",
   "execution_count": 55,
   "metadata": {
    "collapsed": false
   },
   "outputs": [
    {
     "name": "stderr",
     "output_type": "stream",
     "text": [
      "c:\\users\\andres\\anaconda2\\envs\\udacity\\lib\\site-packages\\sklearn\\preprocessing\\data.py:321: DeprecationWarning: Passing 1d arrays as data is deprecated in 0.17 and will raise ValueError in 0.19. Reshape your data either using X.reshape(-1, 1) if your data has a single feature or X.reshape(1, -1) if it contains a single sample.\n",
      "  warnings.warn(DEPRECATION_MSG_1D, DeprecationWarning)\n",
      "c:\\users\\andres\\anaconda2\\envs\\udacity\\lib\\site-packages\\sklearn\\preprocessing\\data.py:356: DeprecationWarning: Passing 1d arrays as data is deprecated in 0.17 and will raise ValueError in 0.19. Reshape your data either using X.reshape(-1, 1) if your data has a single feature or X.reshape(1, -1) if it contains a single sample.\n",
      "  warnings.warn(DEPRECATION_MSG_1D, DeprecationWarning)\n"
     ]
    },
    {
     "data": {
      "text/html": [
       "<div>\n",
       "<style>\n",
       "    .dataframe thead tr:only-child th {\n",
       "        text-align: right;\n",
       "    }\n",
       "\n",
       "    .dataframe thead th {\n",
       "        text-align: left;\n",
       "    }\n",
       "\n",
       "    .dataframe tbody tr th {\n",
       "        vertical-align: top;\n",
       "    }\n",
       "</style>\n",
       "<table border=\"1\" class=\"dataframe\">\n",
       "  <thead>\n",
       "    <tr style=\"text-align: right;\">\n",
       "      <th></th>\n",
       "      <th>shared_weights</th>\n",
       "      <th>shared_count_scaled</th>\n",
       "    </tr>\n",
       "  </thead>\n",
       "  <tbody>\n",
       "    <tr>\n",
       "      <th>0</th>\n",
       "      <td>0.343789</td>\n",
       "      <td>0.116667</td>\n",
       "    </tr>\n",
       "    <tr>\n",
       "      <th>1</th>\n",
       "      <td>0.674897</td>\n",
       "      <td>0.133333</td>\n",
       "    </tr>\n",
       "    <tr>\n",
       "      <th>2</th>\n",
       "      <td>0.730260</td>\n",
       "      <td>0.100000</td>\n",
       "    </tr>\n",
       "    <tr>\n",
       "      <th>3</th>\n",
       "      <td>0.352380</td>\n",
       "      <td>0.033333</td>\n",
       "    </tr>\n",
       "    <tr>\n",
       "      <th>4</th>\n",
       "      <td>0.631104</td>\n",
       "      <td>0.066667</td>\n",
       "    </tr>\n",
       "  </tbody>\n",
       "</table>\n",
       "</div>"
      ],
      "text/plain": [
       "   shared_weights  shared_count_scaled\n",
       "0        0.343789             0.116667\n",
       "1        0.674897             0.133333\n",
       "2        0.730260             0.100000\n",
       "3        0.352380             0.033333\n",
       "4        0.631104             0.066667"
      ]
     },
     "execution_count": 55,
     "metadata": {},
     "output_type": "execute_result"
    }
   ],
   "source": [
    "from sklearn.preprocessing import MinMaxScaler\n",
    "\n",
    "shared_count = [len(x) for x in shared_words]\n",
    "shared_count_scaled = MinMaxScaler().fit_transform(shared_count)\n",
    "\n",
    "X['shared_count_scaled'] = shared_count_scaled\n",
    "X.head()"
   ]
  },
  {
   "cell_type": "code",
   "execution_count": 56,
   "metadata": {
    "collapsed": false
   },
   "outputs": [
    {
     "name": "stderr",
     "output_type": "stream",
     "text": [
      "c:\\users\\andres\\anaconda2\\envs\\udacity\\lib\\site-packages\\sklearn\\preprocessing\\data.py:321: DeprecationWarning: Passing 1d arrays as data is deprecated in 0.17 and will raise ValueError in 0.19. Reshape your data either using X.reshape(-1, 1) if your data has a single feature or X.reshape(1, -1) if it contains a single sample.\n",
      "  warnings.warn(DEPRECATION_MSG_1D, DeprecationWarning)\n",
      "c:\\users\\andres\\anaconda2\\envs\\udacity\\lib\\site-packages\\sklearn\\preprocessing\\data.py:356: DeprecationWarning: Passing 1d arrays as data is deprecated in 0.17 and will raise ValueError in 0.19. Reshape your data either using X.reshape(-1, 1) if your data has a single feature or X.reshape(1, -1) if it contains a single sample.\n",
      "  warnings.warn(DEPRECATION_MSG_1D, DeprecationWarning)\n"
     ]
    },
    {
     "data": {
      "text/html": [
       "<div>\n",
       "<style>\n",
       "    .dataframe thead tr:only-child th {\n",
       "        text-align: right;\n",
       "    }\n",
       "\n",
       "    .dataframe thead th {\n",
       "        text-align: left;\n",
       "    }\n",
       "\n",
       "    .dataframe tbody tr th {\n",
       "        vertical-align: top;\n",
       "    }\n",
       "</style>\n",
       "<table border=\"1\" class=\"dataframe\">\n",
       "  <thead>\n",
       "    <tr style=\"text-align: right;\">\n",
       "      <th></th>\n",
       "      <th>shared_weights</th>\n",
       "      <th>shared_count_scaled</th>\n",
       "      <th>len_dif</th>\n",
       "    </tr>\n",
       "  </thead>\n",
       "  <tbody>\n",
       "    <tr>\n",
       "      <th>0</th>\n",
       "      <td>0.343789</td>\n",
       "      <td>0.116667</td>\n",
       "      <td>0.047170</td>\n",
       "    </tr>\n",
       "    <tr>\n",
       "      <th>1</th>\n",
       "      <td>0.674897</td>\n",
       "      <td>0.133333</td>\n",
       "      <td>0.018868</td>\n",
       "    </tr>\n",
       "    <tr>\n",
       "      <th>2</th>\n",
       "      <td>0.730260</td>\n",
       "      <td>0.100000</td>\n",
       "      <td>0.028302</td>\n",
       "    </tr>\n",
       "    <tr>\n",
       "      <th>3</th>\n",
       "      <td>0.352380</td>\n",
       "      <td>0.033333</td>\n",
       "      <td>0.000000</td>\n",
       "    </tr>\n",
       "    <tr>\n",
       "      <th>4</th>\n",
       "      <td>0.631104</td>\n",
       "      <td>0.066667</td>\n",
       "      <td>0.009434</td>\n",
       "    </tr>\n",
       "  </tbody>\n",
       "</table>\n",
       "</div>"
      ],
      "text/plain": [
       "   shared_weights  shared_count_scaled   len_dif\n",
       "0        0.343789             0.116667  0.047170\n",
       "1        0.674897             0.133333  0.018868\n",
       "2        0.730260             0.100000  0.028302\n",
       "3        0.352380             0.033333  0.000000\n",
       "4        0.631104             0.066667  0.009434"
      ]
     },
     "execution_count": 56,
     "metadata": {},
     "output_type": "execute_result"
    }
   ],
   "source": [
    "question1_len = [len(x) for x in question1_token]\n",
    "question2_len = [len(x) for x in question2_token]\n",
    "\n",
    "len_dif = []\n",
    "\n",
    "for i in range(len(question1_len)):\n",
    "    len_dif.append(abs(question1_len[i] - question2_len[i]))\n",
    "\n",
    "len_dif_scaled = MinMaxScaler().fit_transform(len_dif)\n",
    "\n",
    "X['len_dif'] = len_dif_scaled\n",
    "\n",
    "X.head()"
   ]
  },
  {
   "cell_type": "code",
   "execution_count": 57,
   "metadata": {
    "collapsed": false
   },
   "outputs": [
    {
     "name": "stderr",
     "output_type": "stream",
     "text": [
      "100%|██████████████████████████████████████████████████████████████████████| 2345796/2345796 [18:40<00:00, 2093.80it/s]\n"
     ]
    },
    {
     "data": {
      "text/html": [
       "<div>\n",
       "<style>\n",
       "    .dataframe thead tr:only-child th {\n",
       "        text-align: right;\n",
       "    }\n",
       "\n",
       "    .dataframe thead th {\n",
       "        text-align: left;\n",
       "    }\n",
       "\n",
       "    .dataframe tbody tr th {\n",
       "        vertical-align: top;\n",
       "    }\n",
       "</style>\n",
       "<table border=\"1\" class=\"dataframe\">\n",
       "  <thead>\n",
       "    <tr style=\"text-align: right;\">\n",
       "      <th></th>\n",
       "      <th>shared_weights</th>\n",
       "      <th>shared_count_scaled</th>\n",
       "      <th>len_dif</th>\n",
       "      <th>z_match_ratio</th>\n",
       "    </tr>\n",
       "  </thead>\n",
       "  <tbody>\n",
       "    <tr>\n",
       "      <th>0</th>\n",
       "      <td>0.343789</td>\n",
       "      <td>0.116667</td>\n",
       "      <td>0.047170</td>\n",
       "      <td>0.384000</td>\n",
       "    </tr>\n",
       "    <tr>\n",
       "      <th>1</th>\n",
       "      <td>0.674897</td>\n",
       "      <td>0.133333</td>\n",
       "      <td>0.018868</td>\n",
       "      <td>0.440367</td>\n",
       "    </tr>\n",
       "    <tr>\n",
       "      <th>2</th>\n",
       "      <td>0.730260</td>\n",
       "      <td>0.100000</td>\n",
       "      <td>0.028302</td>\n",
       "      <td>0.584270</td>\n",
       "    </tr>\n",
       "    <tr>\n",
       "      <th>3</th>\n",
       "      <td>0.352380</td>\n",
       "      <td>0.033333</td>\n",
       "      <td>0.000000</td>\n",
       "      <td>0.545455</td>\n",
       "    </tr>\n",
       "    <tr>\n",
       "      <th>4</th>\n",
       "      <td>0.631104</td>\n",
       "      <td>0.066667</td>\n",
       "      <td>0.009434</td>\n",
       "      <td>0.677419</td>\n",
       "    </tr>\n",
       "  </tbody>\n",
       "</table>\n",
       "</div>"
      ],
      "text/plain": [
       "   shared_weights  shared_count_scaled   len_dif  z_match_ratio\n",
       "0        0.343789             0.116667  0.047170       0.384000\n",
       "1        0.674897             0.133333  0.018868       0.440367\n",
       "2        0.730260             0.100000  0.028302       0.584270\n",
       "3        0.352380             0.033333  0.000000       0.545455\n",
       "4        0.631104             0.066667  0.009434       0.677419"
      ]
     },
     "execution_count": 57,
     "metadata": {},
     "output_type": "execute_result"
    }
   ],
   "source": [
    "z_match_ratio = []\n",
    "\n",
    "for i in tqdm(range(len(data_test))):\n",
    "    z_match_ratio.append(diff_ratios(data_test.question1[i], data_test.question2[i]))\n",
    "                         \n",
    "X['z_match_ratio'] = z_match_ratio\n",
    "\n",
    "X.head()"
   ]
  },
  {
   "cell_type": "markdown",
   "metadata": {},
   "source": [
    "Now that I have all the features for the testing data, I will use the model estimated before to get the predicted values for each pair of questions."
   ]
  },
  {
   "cell_type": "code",
   "execution_count": 58,
   "metadata": {
    "collapsed": true
   },
   "outputs": [],
   "source": [
    "pred = bst.predict(xgb.DMatrix(X))"
   ]
  },
  {
   "cell_type": "code",
   "execution_count": 59,
   "metadata": {
    "collapsed": false
   },
   "outputs": [
    {
     "data": {
      "text/html": [
       "<div>\n",
       "<style>\n",
       "    .dataframe thead tr:only-child th {\n",
       "        text-align: right;\n",
       "    }\n",
       "\n",
       "    .dataframe thead th {\n",
       "        text-align: left;\n",
       "    }\n",
       "\n",
       "    .dataframe tbody tr th {\n",
       "        vertical-align: top;\n",
       "    }\n",
       "</style>\n",
       "<table border=\"1\" class=\"dataframe\">\n",
       "  <thead>\n",
       "    <tr style=\"text-align: right;\">\n",
       "      <th></th>\n",
       "      <th>test_id</th>\n",
       "      <th>is_duplicate</th>\n",
       "    </tr>\n",
       "  </thead>\n",
       "  <tbody>\n",
       "    <tr>\n",
       "      <th>0</th>\n",
       "      <td>0</td>\n",
       "      <td>0.001199</td>\n",
       "    </tr>\n",
       "    <tr>\n",
       "      <th>1</th>\n",
       "      <td>1</td>\n",
       "      <td>0.093642</td>\n",
       "    </tr>\n",
       "    <tr>\n",
       "      <th>2</th>\n",
       "      <td>2</td>\n",
       "      <td>0.230531</td>\n",
       "    </tr>\n",
       "    <tr>\n",
       "      <th>3</th>\n",
       "      <td>3</td>\n",
       "      <td>0.441855</td>\n",
       "    </tr>\n",
       "    <tr>\n",
       "      <th>4</th>\n",
       "      <td>4</td>\n",
       "      <td>0.514989</td>\n",
       "    </tr>\n",
       "  </tbody>\n",
       "</table>\n",
       "</div>"
      ],
      "text/plain": [
       "   test_id  is_duplicate\n",
       "0        0      0.001199\n",
       "1        1      0.093642\n",
       "2        2      0.230531\n",
       "3        3      0.441855\n",
       "4        4      0.514989"
      ]
     },
     "execution_count": 59,
     "metadata": {},
     "output_type": "execute_result"
    }
   ],
   "source": [
    "submission = pd.DataFrame(data_test.test_id)\n",
    "\n",
    "submission['is_duplicate'] = pred\n",
    "\n",
    "submission.head()"
   ]
  },
  {
   "cell_type": "markdown",
   "metadata": {},
   "source": [
    "Now I will save my predictions as a csv and submit them to Kaggle to check the log loss obtained in their testing data."
   ]
  },
  {
   "cell_type": "code",
   "execution_count": 60,
   "metadata": {
    "collapsed": true
   },
   "outputs": [],
   "source": [
    "submission.to_csv('sub/xgboost_predictor.csv', index=False)"
   ]
  },
  {
   "cell_type": "markdown",
   "metadata": {},
   "source": [
    "The final score obtained in Kaggle is **0.44814**, which is much better than the one obtained with the naive predictor."
   ]
  }
 ],
 "metadata": {
  "kernelspec": {
   "display_name": "Python 2",
   "language": "python",
   "name": "python2"
  },
  "language_info": {
   "codemirror_mode": {
    "name": "ipython",
    "version": 2
   },
   "file_extension": ".py",
   "mimetype": "text/x-python",
   "name": "python",
   "nbconvert_exporter": "python",
   "pygments_lexer": "ipython2",
   "version": "2.7.13"
  }
 },
 "nbformat": 4,
 "nbformat_minor": 2
}
